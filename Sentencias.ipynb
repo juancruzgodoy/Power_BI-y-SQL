{
 "cells": [
  {
   "cell_type": "markdown",
   "id": "a30e9ccf",
   "metadata": {},
   "source": [
    "# Documentación de Sentencias SQL: Análisis de Ventas de Cafetería\n",
    "\n",
    "### Introducción\n",
    "\n",
    "Este documento presenta la documentación de las sentencias SQL utilizadas para el análisis exploratorio y la preparación de datos de una tienda de café. A través de estas consultas, se limpiarán los datos, se transformarán las estructuras de las tablas y se extraerán métricas clave para entender el rendimiento del negocio.\n",
    "\n",
    "### Sentencias SQL Utilizadas y su Acción\n",
    "\n",
    "A continuación, se definen las principales sentencias y funciones de SQL empleadas en este análisis y la acción que realizan:\n",
    "\n",
    "* `SELECT`: Recupera datos de una o más tablas en una base de datos.\n",
    "* `FROM`: Especifica la(s) tabla(s) de la(s) cual(es) se van a recuperar los datos.\n",
    "* `WHERE`: Filtra los registros para extraer solo aquellos que cumplan una condición específica.\n",
    "* `GROUP BY`: Agrupa filas que tienen los mismos valores en columnas especificadas en filas de resumen.\n",
    "* `ORDER BY`: Ordena el conjunto de resultados de una consulta en orden ascendente o descendente.\n",
    "* `UPDATE`: Modifica los datos existentes en una tabla.\n",
    "* `SET`: Se utiliza con `UPDATE` para especificar las columnas y los nuevos valores a modificar.\n",
    "* `ALTER TABLE`: Modifica la estructura existente de una tabla (añadir, eliminar o modificar columnas, cambiar tipos de datos, etc.).\n",
    "* `MODIFY COLUMN`: Se utiliza con `ALTER TABLE` para cambiar el tipo de dato de una columna.\n",
    "* `CHANGE COLUMN`: Se utiliza con `ALTER TABLE` para renombrar una columna y/o cambiar su tipo de dato.\n",
    "* `DESCRIBE`: Muestra la estructura de una tabla, incluyendo columnas, tipos de datos, claves, etc.\n",
    "* `LIMIT`: Restringe el número de filas devueltas por una consulta.\n",
    "* `CASE`: Permite realizar lógica condicional en una consulta (similar a una sentencia if/else).\n",
    "* `AVG()`: Función de agregación que calcula el promedio de un conjunto de valores.\n",
    "* `SUM()`: Función de agregación que calcula la suma total de un conjunto de valores.\n",
    "* `COUNT()`: Función de agregación que cuenta el número de filas que cumplen una condición específica.\n",
    "* `ROUND()`: Redondea un número a un número específico de decimales.\n",
    "* `MONTH()`: Extrae el número del mes de una fecha.\n",
    "* `DAYOFWEEK()`: Extrae el día de la semana de una fecha (el valor numérico depende del sistema, a menudo 1 es Domingo, 7 es Sábado).\n",
    "* `HOUR()`: Extrae la hora de una hora o marca de tiempo.\n",
    "* `STR_TO_DATE()`: Convierte una cadena de caracteres en un valor de fecha y/o hora.\n",
    "* `REPLACE()`: Reemplaza todas las ocurrencias de una subcadena dentro de una cadena por otra subcadena.\n",
    "* `CONCAT()`: Concatena dos o más cadenas de caracteres.\n",
    "* `LAG()`: Función de ventana que accede a una fila anterior en algún número de desplazamiento dentro de la misma partición y devuelve el valor de una columna de esa fila anterior. Se utiliza comúnmente para comparar el valor de la fila actual con el de una fila anterior.\n",
    "* `OVER()`: Se utiliza con funciones de ventana (`LAG`, `AVG` aquí usado como función de ventana) para definir la ventana o conjunto de filas sobre las que opera la función.\n",
    "\n",
    "---\n"
   ]
  },
  {
   "cell_type": "markdown",
   "id": "147554fe",
   "metadata": {},
   "source": [
    "### Documentación por Bloque de Código SQL\n",
    "\n",
    "A continuación, se presenta la documentación de cada bloque de código SQL ejecutado:\n",
    "\n",
    "**Bloque 1: Exploración Inicial de la Tabla**\n",
    "\n",
    "```sql\n",
    "SELECT * FROM coffee_shop_sales"
   ]
  },
  {
   "cell_type": "markdown",
   "id": "f7ddba4a",
   "metadata": {},
   "source": [
    "![](images/Select.png)"
   ]
  },
  {
   "cell_type": "markdown",
   "id": "51c2e1d0",
   "metadata": {},
   "source": [
    "DESCRIBE coffee_shop_sales\n",
    "\n",
    "Esta sentencia muestra la estructura de la tabla coffee_shop_sales. Proporciona información sobre el nombre de cada columna, su tipo de dato, si acepta valores nulos, claves, etc. Sirve para obtener información sobre la estructura de una tabla."
   ]
  },
  {
   "cell_type": "markdown",
   "id": "d72067c6",
   "metadata": {},
   "source": [
    "![](images/Describe.png)"
   ]
  },
  {
   "cell_type": "markdown",
   "id": "b84b50e9",
   "metadata": {},
   "source": [
    "- - - - - - - - - - - \n"
   ]
  },
  {
   "cell_type": "markdown",
   "id": "73a15ddc",
   "metadata": {},
   "source": [
    "**Bloque 2: Limpieza y Transformación de Tipos de Datos (Fecha y Hora)**\n",
    "\n",
    "\n",
    "UPDATE coffee_shop_sales\n",
    "SET transaction_date = STR_TO_DATE(transaction_date, '%d-%m-%Y');\n",
    "\n",
    " - Esta consulta de actualización modifica la columna transaction_date. Utiliza la función STR_TO_DATE para convertir la cadena de texto existente en la columna transaction_date a un formato de fecha, asumiendo que el formato original es día-mes-año (ej. '31-12-2023'). \n",
    "\n",
    "\n",
    "\n",
    "\n",
    "ALTER TABLE coffee_shop_sales\n",
    "MODIFY COLUMN transaction_date DATE;\n",
    "\n",
    " - Una vez que los valores de transaction_date han sido convertidos a un formato interpretable como fecha, esta sentencia modifica la estructura de la tabla para cambiar explícitamente el tipo de dato de la columna transaction_date a DATE. Esto asegura que la base de datos reconozca y maneje correctamente esta columna como fechas. \n",
    "\n",
    "\n",
    "\n",
    "\n",
    "UPDATE coffee_shop_sales\n",
    "SET transaction_time = STR_TO_DATE(transaction_time, '%H:%i:%s');\n",
    "\n",
    " - Similar al proceso con la fecha, esta consulta actualiza la columna transaction_time, convirtiendo la cadena de texto de la hora a un formato de hora reconocido por la base de datos, asumiendo un formato hora:minuto:segundo (ej. '14:30:00'). \n",
    "\n",
    "\n",
    "\n",
    "\n",
    "\n",
    "ALTER TABLE coffee_shop_sales\n",
    "MODIFY COLUMN transaction_time TIME;\n",
    "\n",
    " - Esta sentencia modifica la estructura de la tabla para cambiar el tipo de dato de la columna transaction_time a TIME, asegurando su correcto manejo como valores de tiempo. \n",
    "\n",
    "\n",
    "\n",
    "\n",
    " ALTER TABLE coffee_shop_sales\n",
    "CHANGE COLUMN `¿transaction_id` transaction_id INT;\n",
    "\n",
    " - Esta sentencia ALTER TABLE realiza dos acciones sobre una columna. Utiliza CHANGE COLUMN para renombrar la columna de ¿transaction_id a transaction_id (eliminando un posible carácter erróneo inicial) y simultáneamente cambia su tipo de dato a INT (entero).\n"
   ]
  },
  {
   "cell_type": "markdown",
   "id": "deef69a9",
   "metadata": {},
   "source": [
    "- - - - - - - - - - - - -"
   ]
  },
  {
   "cell_type": "markdown",
   "id": "809dd4b8",
   "metadata": {},
   "source": [
    "**Bloque 3: Cálculo de Ventas Totales para un Mes Específico**\n",
    "\n",
    "\n",
    "SELECT ROUND (SUM(unit_price* transaction_qty)) as Total_Sales\n",
    "FROM coffee_shop_sales\n",
    "WHERE MONTH(transaction_date) = 5 -- for month of (CM-May)\n",
    "\n",
    " - Esta consulta calcula las ventas totales para un mes específico (en este caso, Mayo, filtrando donde el número del mes es 5). Multiplica el unit_price por transaction_qty para cada fila, suma estos valores (SUM), y redondea el resultado (ROUND). El resultado se presenta con el alias Total_Sales."
   ]
  },
  {
   "cell_type": "markdown",
   "id": "6a55737a",
   "metadata": {},
   "source": [
    "![](images/Total%20ventas%20Por%20mes.png)"
   ]
  },
  {
   "cell_type": "markdown",
   "id": "9402074c",
   "metadata": {},
   "source": [
    "**Bloque 4: Cálculo de Ventas Totales y Crecimiento Mes a Mes (MoM)**\n",
    "\n",
    "\n",
    "SELECT\n",
    "    MONTH(transaction_date) AS month,\n",
    "\n",
    "    ROUND(SUM(unit_price* transaction_qty)) AS total_sales,\n",
    "\n",
    "    (SUM(unit_price* transaction_qty) - LAG(SUM(unit_price* transaction_qty), 1) OVER (ORDER BY MONTH(transaction_date))) / LAG\n",
    "\n",
    "    (SUM(unit_price* transaction_qty), 1) OVER (ORDER BY MONTH(transaction_date)) * 100 AS mom_increase_percentage\n",
    "\n",
    "FROM\n",
    "\n",
    "    coffee_shop_sales\n",
    "\n",
    "WHERE\n",
    "\n",
    "    MONTH(transaction_date) IN (4, 5) -- for months of April and May\n",
    "\n",
    "GROUP BY\n",
    "\n",
    "    MONTH(transaction_date)\n",
    "\n",
    "ORDER BY\n",
    "\n",
    "    MONTH(transaction_date);\n",
    "\n",
    " - Esta consulta calcula las ventas totales para los meses de Abril y Mayo y determina el crecimiento porcentual mes a mes (MoM). \n",
    "Agrupa los datos por mes (GROUP BY MONTH(transaction_date)).\n",
    "Calcula la suma de unit_price * transaction_qty para obtener las ventas totales por mes.\n",
    "Utiliza la función de ventana LAG() para obtener el total de ventas del mes anterior (LAG(SUM(unit_price* transaction_qty), 1)).\n",
    "La fórmula (Ventas Actual - Ventas Anterior) / Ventas Anterior * 100 calcula el porcentaje de crecimiento MoM.\n",
    "Filtra los datos para incluir solo los meses 4 y 5 (WHERE MONTH(transaction_date) IN (4, 5)).\n",
    "Ordena los resultados por número de mes."
   ]
  },
  {
   "cell_type": "markdown",
   "id": "8c5d259a",
   "metadata": {},
   "source": [
    "![](images/incventas.png)\n"
   ]
  },
  {
   "cell_type": "markdown",
   "id": "1f64ef70",
   "metadata": {},
   "source": [
    "- - - - -- - - - - "
   ]
  },
  {
   "cell_type": "markdown",
   "id": "13cfd641",
   "metadata": {},
   "source": [
    "**Bloque 5: Cálculo del Total de Pedidos para un Mes Específico**\n",
    "\n",
    "\n",
    "SELECT COUNT(transaction_id) as Total_Orders\n",
    "\n",
    "FROM coffee_shop_sales\n",
    "\n",
    "WHERE MONTH (transaction_date)= 5 -- for month of (CM-May)\n",
    "\n",
    "- Esta consulta calcula el número total de pedidos (contando las filas por transaction_id) para un mes específico (Mayo, MONTH(transaction_date) = 5)."
   ]
  },
  {
   "cell_type": "markdown",
   "id": "48948084",
   "metadata": {},
   "source": [
    "![](images/Total%20pedidos%20por%20mes.png)"
   ]
  },
  {
   "cell_type": "markdown",
   "id": "472e6eb2",
   "metadata": {},
   "source": [
    "**Cálculo del Total de Pedidos y Crecimiento Mes a Mes (MoM)**\n",
    "\n",
    "\n",
    "SELECT\n",
    "    MONTH(transaction_date) AS month,\n",
    "\n",
    "    ROUND(COUNT (transaction_id)) AS total_orders,\n",
    "\n",
    "    (COUNT(transaction_id) - LAG(COUNT (transaction_id), 1) OVER (ORDER BY MONTH(transaction_date))) / LAG(COUNT \n",
    "\n",
    "    (transaction_id), 1) OVER (ORDER BY MONTH(transaction_date)) * 100 AS mom_increase_percentage\n",
    "\n",
    "FROM\n",
    "\n",
    "    coffee_shop_sales\n",
    "\n",
    "WHERE\n",
    "\n",
    "    MONTH(transaction_date) IN (4, 5) -- for April and May\n",
    "\n",
    "GROUP BY\n",
    "\n",
    "    MONTH(transaction_date)\n",
    "\n",
    "ORDER BY\n",
    "\n",
    "    MONTH(transaction_date);\n",
    "\n",
    "- Calcula el total de pedidos (COUNT(transaction_id)) para los meses de Abril y Mayo y determina el crecimiento porcentual de pedidos mes a mes (MoM)."
   ]
  },
  {
   "cell_type": "markdown",
   "id": "aab959a7",
   "metadata": {},
   "source": [
    "![](images/inc%20y%20dif%20entre%20pedidos%20por%20mes.png)"
   ]
  },
  {
   "cell_type": "markdown",
   "id": "c2fa8259",
   "metadata": {},
   "source": [
    "- - - - - - - "
   ]
  },
  {
   "cell_type": "markdown",
   "id": "25471634",
   "metadata": {},
   "source": [
    "**Bloque 6: Calculo de Total Productos Vendidos** \n",
    "\n",
    "SELECT SUM(transaction_qty) as Total_Quantity_Sold\n",
    "\n",
    "FROM coffee_shop_sales\n",
    "\n",
    "WHERE MONTH(transaction_date) = 5 -- Para el mes de mayo\n",
    "\n",
    "Esta consulta suma la cantidad total de artículos vendidos (transaction_qty) para un mes específico (Mayo)."
   ]
  },
  {
   "cell_type": "markdown",
   "id": "36d330ce",
   "metadata": {},
   "source": [
    "![](images/Cantidad_de_prod_vendidos.png)"
   ]
  },
  {
   "cell_type": "markdown",
   "id": "6d9b7428",
   "metadata": {},
   "source": [
    "**Cálculo de la Cantidad Total Vendida y Crecimiento Mes a Mes (MoM)**\n",
    "\n",
    "\n",
    "SELECT\n",
    "\n",
    "    MONTH(transaction_date) AS month,\n",
    "\n",
    "    ROUND(SUM(transaction_qty)) AS total_quantity_sold,\n",
    "\n",
    "    (SUM(transaction_qty) - LAG(SUM(transaction_qty), 1) OVER (ORDER BY MONTH(transaction_date))) / LAG(SUM\n",
    "\n",
    "    (transaction_qty), 1) OVER (ORDER BY MONTH(transaction_date)) * 100 AS mom_increase_percentage\n",
    "\n",
    "FROM\n",
    "\n",
    "    coffee_shop_sales\n",
    "\n",
    "WHERE\n",
    "\n",
    "    MONTH(transaction_date) IN (4, 5) -- for April and May\n",
    "\n",
    "GROUP BY\n",
    "\n",
    "    MONTH(transaction_date)\n",
    "\n",
    "ORDER BY\n",
    "\n",
    "    MONTH(transaction_date);\n",
    "\n",
    "Esta consulta calcula la cantidad total de productos vendidos (SUM(transaction_qty)) para los meses de Abril y Mayo y determina el crecimiento porcentual de la cantidad vendida mes a mes (MoM)"
   ]
  },
  {
   "cell_type": "markdown",
   "id": "d09a1245",
   "metadata": {},
   "source": [
    "![](images/Inc_y_dif_entre_cantidad_de_productos.png)"
   ]
  },
  {
   "cell_type": "markdown",
   "id": "ca1258c3",
   "metadata": {},
   "source": [
    "- - - - - - - - -- - - "
   ]
  },
  {
   "cell_type": "markdown",
   "id": "fe6fdf43",
   "metadata": {},
   "source": [
    "**Bloque 7: Cálculo de Métricas Clave para un Día Específico**\n",
    "\n",
    "SELECT\n",
    "\n",
    "    SUM(unit_price* transaction_qty) AS total_sales,\n",
    "\n",
    "    SUM(transaction_qty) AS total_quantity_sold,\n",
    "\n",
    "    COUNT(transaction_id) AS total_orders\n",
    "\n",
    "FROM\n",
    "\n",
    "    coffee_shop_sales\n",
    "\n",
    "WHERE\n",
    "\n",
    "    transaction_date = '2023-05-18'; -- Para 18 Mayo 2023\n",
    "\n",
    "Esta consulta obtiene las métricas clave (ventas totales, cantidad total vendida y número total de pedidos) para un día específico ('2023-05-18'). \n"
   ]
  },
  {
   "cell_type": "markdown",
   "id": "3105d296",
   "metadata": {},
   "source": [
    "![](images/Resultadosxdia.png)"
   ]
  },
  {
   "cell_type": "markdown",
   "id": "63129364",
   "metadata": {},
   "source": [
    "**Cálculo y Formateo de Métricas Clave para un Día Específico (en Miles)**\n",
    "\n",
    "\n",
    "SELECT\n",
    "\n",
    "    CONCAT(ROUND(SUM(unit_price* transaction_qty) / 1000, 1), 'K') AS total_sales,\n",
    "\n",
    "    CONCAT(ROUND (COUNT (transaction_id) / 1000, 1),'K') AS total_orders,\n",
    "\n",
    "    CONCAT(ROUND (SUM(transaction_qty) / 1000, 1), 'K') AS total_quantity_sold\n",
    "\n",
    "FROM\n",
    "\n",
    "    coffee_shop_sales\n",
    "\n",
    "WHERE\n",
    "\n",
    "    transaction_date = '2023-05-18'; --For 18 May 2023\n",
    "\n",
    "Esta consulta formatea los resultados en miles (dividiendo por 1000 y añadiendo 'K' al final) y redondea a un decimal utilizando ROUND y CONCAT. Presenta las ventas totales, el número total de pedidos y la cantidad total vendida para la fecha '2023-05-18'."
   ]
  },
  {
   "cell_type": "markdown",
   "id": "60e74507",
   "metadata": {},
   "source": [
    "![](images/Ventasxdiaredondeado.png)"
   ]
  },
  {
   "cell_type": "markdown",
   "id": "15123481",
   "metadata": {},
   "source": [
    "- - - - - -"
   ]
  },
  {
   "cell_type": "markdown",
   "id": "587163de",
   "metadata": {},
   "source": [
    "**Bloque 8: Cálculo del Promedio de Ventas Diarias para un Mes**\n",
    "\n",
    "\n",
    "SELECT AVG(total_sales) AS average_sales\n",
    "\n",
    "FROM (\n",
    "\n",
    "    SELECT\n",
    "\n",
    "        SUM(unit_price* transaction_qty) AS total_sales\n",
    "\n",
    "    FROM\n",
    "\n",
    "        coffee_shop_sales\n",
    "\n",
    "    WHERE\n",
    "\n",
    "        MONTH(transaction_date) = 5 -- Filter for May\n",
    "\n",
    "    GROUP BY\n",
    "\n",
    "        transaction_date\n",
    "\n",
    ") AS internal_query;\n",
    "\n",
    "Esta consulta calcula el promedio de las ventas diarias para el mes de Mayo. \n",
    "Una subconsulta (aliased como internal_query) calcula las ventas totales para cada día de Mayo (SUM(...) GROUP BY transaction_date). \n",
    "La consulta externa calcula el promedio (AVG()) de los resultados de ventas diarias obtenidos en la subconsulta. \n",
    "\n",
    "\n",
    "\n",
    "\n"
   ]
  },
  {
   "cell_type": "markdown",
   "id": "1671c78e",
   "metadata": {},
   "source": [
    "![](images/Promedio.png)"
   ]
  },
  {
   "cell_type": "markdown",
   "id": "f1b4f22e",
   "metadata": {},
   "source": [
    "**Bloque 9: Ventas Totales por Día del Mes**\n",
    "\n",
    "\n",
    "SELECT\n",
    "\n",
    "    DAY(transaction_date) AS day_of_month,\n",
    "\n",
    "    ROUND(SUM(unit_price* transaction_qty), 1) AS total_sales\n",
    "\n",
    "FROM\n",
    "\n",
    "    coffee_shop_sales\n",
    "\n",
    "WHERE\n",
    "\n",
    "    MONTH(transaction_date) = 5\n",
    "\n",
    "GROUP BY\n",
    "\n",
    "    DAY(transaction_date)\n",
    "\n",
    "ORDER BY\n",
    "\n",
    "    DAY(transaction_date);\n",
    "\n",
    "Esta consulta agrupa las transacciones por cada día del mes de Mayo y calcula la suma total de ventas para cada día. Los resultados se presentan ordenados por el día del mes.\n"
   ]
  },
  {
   "cell_type": "markdown",
   "id": "c7d1b85a",
   "metadata": {},
   "source": [
    "![](images/Diadelmes1.png)     ![](images/Diadelmes2.png)"
   ]
  },
  {
   "cell_type": "markdown",
   "id": "08e6ffa5",
   "metadata": {},
   "source": [
    "**Bloque 10: Categorización de Ventas Diarias (Por Encima/Debajo del Promedio)**\n",
    "\n",
    "SELECT\n",
    "\n",
    "    day_of_month,\n",
    "\n",
    "    CASE\n",
    "\n",
    "        WHEN total_sales > avg_sales THEN 'Above Average'\n",
    "\n",
    "        WHEN total_sales < avg_sales THEN 'Below Average'\n",
    "\n",
    "        ELSE 'Average'\n",
    "\n",
    "    END AS sales_status,\n",
    "\n",
    "    total_sales\n",
    "\n",
    "FROM (\n",
    "\n",
    "    SELECT\n",
    "\n",
    "        DAY(transaction_date) AS day_of_month,\n",
    "\n",
    "        SUM(unit_price* transaction_qty) AS total_sales,\n",
    "\n",
    "        AVG(SUM(unit_price* transaction_qty)) OVER () AS avg_sales\n",
    "\n",
    "    FROM\n",
    "\n",
    "        coffee_shop_sales\n",
    "\n",
    "    WHERE\n",
    "\n",
    "        MONTH(transaction_date) = 5\n",
    "\n",
    "    GROUP BY\n",
    "\n",
    "        DAY(transaction_date)\n",
    "\n",
    ") AS sales_data\n",
    "\n",
    "ORDER BY\n",
    "\n",
    "    day_of_month;\n",
    "\n",
    "Esta consulta categoriza el rendimiento de ventas de cada día de Mayo como 'Above Average' (Por encima del promedio), 'Below Average' (Por debajo del promedio) o 'Average' (Promedio). \n",
    "Una subconsulta (aliased como sales_data) calcula las ventas totales por día y el promedio general de ventas diarias para todo el mes (utilizando AVG() como función de ventana con OVER ()). \n",
    "La consulta externa utiliza una sentencia CASE para comparar las ventas de cada día (total_sales) con el promedio (avg_sales) y asignar la categoría correspondiente. \n",
    "Los resultados se ordenan por día del mes."
   ]
  },
  {
   "cell_type": "markdown",
   "id": "1a1e7868",
   "metadata": {},
   "source": [
    "![](images/Porencimadel.png)"
   ]
  },
  {
   "cell_type": "markdown",
   "id": "17af1353",
   "metadata": {},
   "source": [
    "- - - -- - - "
   ]
  },
  {
   "cell_type": "markdown",
   "id": "ee7d9c1f",
   "metadata": {},
   "source": [
    "**Bloque 11: Ventas Totales por Tipo de Día (Fin de Semana vs. Día de Semana)**\n",
    "\n",
    "\n",
    "SELECT\n",
    "\n",
    "    CASE\n",
    "\n",
    "        WHEN DAYOFWEEK(transaction_date) IN (1, 7) THEN 'FindeSemana'\n",
    "\n",
    "        ELSE 'DiasdeSemana'\n",
    "\n",
    "    END AS day_type,\n",
    "\n",
    "    ROUND(SUM(unit_price* transaction_qty), 2) AS total_sales\n",
    "\n",
    "FROM\n",
    "\n",
    "    coffee_shop_sales\n",
    "\n",
    "WHERE\n",
    "\n",
    "    MONTH(transaction_date) = 5 -- Filter for May\n",
    "\n",
    "GROUP BY\n",
    "\n",
    "    CASE\n",
    "\n",
    "        WHEN DAYOFWEEK (transaction_date) IN (1, 7) THEN 'FindeSemana'\n",
    "\n",
    "        ELSE 'DiasdeSemana'\n",
    "\n",
    "    END;\n",
    "\n",
    "Esta consulta calcula las ventas totales para el mes de Mayo, diferenciando entre las ventas realizadas durante los fines de semana (DAYOFWEEK es 1 para Domingo, 7 para Sábado) y los días de semana. Agrupa los resultados según el tipo de día ('FindeSemana' o 'DiasdeSemana')"
   ]
  },
  {
   "cell_type": "markdown",
   "id": "b9d5c786",
   "metadata": {},
   "source": [
    "![](images/SemanaFIndesemana.png)"
   ]
  },
  {
   "cell_type": "markdown",
   "id": "0d40bdf5",
   "metadata": {},
   "source": [
    "- - - - - "
   ]
  },
  {
   "cell_type": "markdown",
   "id": "214e0cf4",
   "metadata": {},
   "source": [
    "**Bloque 12: Ventas Totales por Categoría de Producto**\n",
    "\n",
    "\n",
    "SELECT\n",
    "\n",
    "    product_category,\n",
    "\n",
    "    ROUND(SUM(unit_price* transaction_qty), 1) as Total_Sales\n",
    "\n",
    "FROM coffee_shop_sales\n",
    "\n",
    "WHERE\n",
    "\n",
    "    MONTH(transaction_date) = 5\n",
    "\n",
    "GROUP BY product_category\n",
    "\n",
    "ORDER BY SUM(unit_price* transaction_qty) DESC\n",
    "\n",
    "Esta consulta calcula las ventas totales para cada categoría de producto en el mes de Mayo. Agrupa los resultados por product_category y los ordena de forma descendente según el total de ventas, mostrando las categorías más vendidas primero. "
   ]
  },
  {
   "cell_type": "markdown",
   "id": "ec65ce52",
   "metadata": {},
   "source": [
    "![](images/Categorias-ventas.png)"
   ]
  },
  {
   "cell_type": "markdown",
   "id": "e0e72cdd",
   "metadata": {},
   "source": [
    "- - - - - "
   ]
  },
  {
   "cell_type": "markdown",
   "id": "76c57c23",
   "metadata": {},
   "source": [
    "**Bloque 13: Ventas por Producto (Top 10)**\n",
    "\n",
    "\n",
    "SELECT\n",
    "\n",
    "    product_type,\n",
    "\n",
    "    ROUND(SUM(unit_price* transaction_qty), 1) as Total_Sales\n",
    "\n",
    "FROM coffee_shop_sales\n",
    "\n",
    "WHERE\n",
    "\n",
    "    MONTH(transaction_date) = 5\n",
    "\n",
    "GROUP BY product_type\n",
    "\n",
    "ORDER BY SUM(unit_price* transaction_qty) DESC\n",
    "\n",
    "LIMIT 10\n",
    "\n",
    "Similar al bloque anterior, pero esta consulta calcula las ventas totales para cada tipo de producto en el mes de Mayo. Agrupa por product_type, ordena por ventas descendentes y utiliza LIMIT 10 para mostrar solo los 10 productos más vendidos."
   ]
  },
  {
   "cell_type": "markdown",
   "id": "a9b3df3b",
   "metadata": {},
   "source": [
    "![](images/Top10.png)"
   ]
  },
  {
   "cell_type": "markdown",
   "id": "a96f6165",
   "metadata": {},
   "source": [
    "- - - - - -  - - -"
   ]
  },
  {
   "cell_type": "markdown",
   "id": "fab8ecfa",
   "metadata": {},
   "source": [
    "**Bloque 14: Ventas para un Día y Hora Específicos**\n",
    "\n",
    "\n",
    "SELECT\n",
    "\n",
    "    ROUND(SUM(unit_price* transaction_qty)) AS Total_Sales,\n",
    "\n",
    "    SUM(transaction_qty) AS Total_Quantity,\n",
    "\n",
    "    COUNT(*) AS Total_Orders\n",
    "\n",
    "FROM\n",
    "\n",
    "    coffee_shop_sales\n",
    "\n",
    "WHERE\n",
    "\n",
    "    DAYOFWEEK(transaction_date) = 3 -- Filtro para Martes\n",
    "\n",
    "    AND HOUR(transaction_time) = 8 -- Filro para hora 8:00\n",
    "\n",
    "    AND MONTH(transaction_date) = 5; -- Filtro para mes de Mayo\n",
    "\n",
    "Esta consulta calcula las ventas totales, la cantidad total vendida y el número total de pedidos para un día de la semana (Martes) y una hora (HOUR = 8) específicos dentro del mes de Mayo. "
   ]
  },
  {
   "cell_type": "markdown",
   "id": "c472ac8f",
   "metadata": {},
   "source": [
    "![](images/Ventasxhora.png)"
   ]
  },
  {
   "cell_type": "markdown",
   "id": "30f2e599",
   "metadata": {},
   "source": [
    "- - - -- - - - "
   ]
  },
  {
   "cell_type": "markdown",
   "id": "5dcd6a46",
   "metadata": {},
   "source": [
    "**Bloque 15: Ventas Totales por Día de la Semana**\n",
    "\n",
    "SELECT\n",
    "\n",
    "    CASE\n",
    "\n",
    "        WHEN DAYOFWEEK (transaction_date) = 2 THEN 'Monday'\n",
    "\n",
    "        WHEN DAYOFWEEK(transaction_date) = 3 THEN 'Tuesday'\n",
    "\n",
    "        WHEN DAYOFWEEK(transaction_date) = 4 THEN 'Wednesday'\n",
    "\n",
    "        WHEN DAYOFWEEK (transaction_date) = 5 THEN 'Thursday'\n",
    "\n",
    "        WHEN DAYOFWEEK (transaction_date) = 6 THEN 'Friday'\n",
    "\n",
    "        WHEN DAYOFWEEK(transaction_date) = 7 THEN 'Saturday'\n",
    "\n",
    "        ELSE 'Sunday'\n",
    "\n",
    "    END AS Day_of_Week,\n",
    "\n",
    "    ROUND(SUM(unit_price* transaction_qty)) AS Total_Sales\n",
    "\n",
    "FROM\n",
    "\n",
    "    coffee_shop_sales\n",
    "\n",
    "WHERE\n",
    "\n",
    "    MONTH(transaction_date) = 5\n",
    "\n",
    "GROUP BY\n",
    "\n",
    "    CASE\n",
    "\n",
    "        WHEN DAYOFWEEK(transaction_date) = 2 THEN 'Monday'\n",
    "\n",
    "        WHEN DAYOFWEEK(transaction_date) = 3 THEN 'Tuesday'\n",
    "\n",
    "        WHEN DAYOFWEEK (transaction_date) = 4 THEN 'Wednesday'\n",
    "\n",
    "        WHEN DAYOFWEEK (transaction_date) = 5 THEN 'Thursday'\n",
    "\n",
    "        WHEN DAYOFWEEK (transaction_date) = 6 THEN 'Friday'\n",
    "\n",
    "        WHEN DAYOFWEEK(transaction_date) = 7 THEN 'Saturday'\n",
    "\n",
    "        ELSE 'Sunday'\n",
    "\n",
    "    END;\n",
    "\n",
    "Esta consulta calcula las ventas totales para cada día de la semana (Lunes a Domingo en ingles para seguir el lenguaje de la tabla) en el mes de Mayo. Utiliza una sentencia CASE para asignar un nombre legible a cada número de día de la semana y agrupa los resultados por este nombre del día. "
   ]
  },
  {
   "cell_type": "markdown",
   "id": "f58ac190",
   "metadata": {},
   "source": [
    "![](images/Ventas_por_dia.png)"
   ]
  },
  {
   "cell_type": "markdown",
   "id": "3efe2e2a",
   "metadata": {},
   "source": [
    "- - - -- "
   ]
  },
  {
   "cell_type": "markdown",
   "id": "325fce62",
   "metadata": {},
   "source": [
    "**Bloque 16: Ventas Totales por Hora del Día**\n",
    "\n",
    "\n",
    "SELECT\n",
    "\n",
    "    HOUR(transaction_time) AS Hour_of_Day,\n",
    "\n",
    "    ROUND(SUM(unit_price* transaction_qty)) AS Total_Sales\n",
    "\n",
    "FROM\n",
    "\n",
    "    coffee_shop_sales\n",
    "\n",
    "WHERE\n",
    "\n",
    "    MONTH(transaction_date) = 5 -- Filter for May (month number 5)\n",
    "\n",
    "GROUP BY\n",
    "\n",
    "    HOUR(transaction_time)\n",
    "\n",
    "ORDER BY\n",
    "\n",
    "    HOUR(transaction_time);\n",
    "\n",
    "Esta consulta calcula las ventas totales para cada hora del día (0 a 23) en el mes de Mayo. Agrupa los resultados por el número de la hora y los ordena en orden ascendente. "
   ]
  },
  {
   "cell_type": "markdown",
   "id": "781d22e0",
   "metadata": {},
   "source": [
    "![](images/Ventasporhoraenelmesdemayo.png)"
   ]
  },
  {
   "cell_type": "markdown",
   "id": "d48ff2b7",
   "metadata": {},
   "source": [
    "**Se realizara un informe y graficas en Power BI para visualizar la información de los datos obtenidos de esta base de datos**"
   ]
  },
  {
   "cell_type": "markdown",
   "id": "cc82f551",
   "metadata": {},
   "source": []
  }
 ],
 "metadata": {
  "kernelspec": {
   "display_name": "Python 3",
   "language": "python",
   "name": "python3"
  },
  "language_info": {
   "codemirror_mode": {
    "name": "ipython",
    "version": 3
   },
   "file_extension": ".py",
   "mimetype": "text/x-python",
   "name": "python",
   "nbconvert_exporter": "python",
   "pygments_lexer": "ipython3",
   "version": "3.13.0"
  }
 },
 "nbformat": 4,
 "nbformat_minor": 5
}
